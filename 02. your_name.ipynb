{
 "cells": [
  {
   "cell_type": "code",
   "execution_count": null,
   "metadata": {},
   "outputs": [],
   "source": [
    "# Below is an \"annoying\" while loop that will continue asking for your name\n",
    "# until you actually type \"your\" \n",
    "name = ''\n",
    "while name != 'your name':\n",
    "    print('Please type in your name')\n",
    "    name = input()\n",
    "print('Thank you!')"
   ]
  },
  {
   "cell_type": "code",
   "execution_count": null,
   "metadata": {},
   "outputs": [],
   "source": [
    "# We can 'break' out of a while loop with the break statement. The following performs the\n",
    "# same program as above with a different syntax.\n",
    "# In this example, the program basically says if name == your name then break else keep going.\n",
    "while TRUE:                             # this creates an infinite loop. It is always true\n",
    "    print('Please type your name.')\n",
    "    name = input()\n",
    "    if name == 'your name':\n",
    "        break\n",
    "    print('Thank you!')"
   ]
  }
 ],
 "metadata": {
  "kernelspec": {
   "display_name": "Python 3",
   "language": "python",
   "name": "python3"
  },
  "language_info": {
   "name": "python",
   "version": "3.11.5"
  },
  "orig_nbformat": 4
 },
 "nbformat": 4,
 "nbformat_minor": 2
}

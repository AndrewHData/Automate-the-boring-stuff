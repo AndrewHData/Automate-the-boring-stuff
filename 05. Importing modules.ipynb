{
 "cells": [
  {
   "cell_type": "markdown",
   "metadata": {},
   "source": [
    "## Importing Modules"
   ]
  },
  {
   "cell_type": "code",
   "execution_count": null,
   "metadata": {},
   "outputs": [],
   "source": [
    "import random\n",
    "for i in range(5):\n",
    "    print(random.randint(1,10))"
   ]
  },
  {
   "cell_type": "markdown",
   "metadata": {},
   "source": [
    "# Ending a program early with the sys.exit() function\n",
    "\n",
    "Be aware that the below code has an infinite loop"
   ]
  },
  {
   "cell_type": "code",
   "execution_count": null,
   "metadata": {},
   "outputs": [],
   "source": [
    "import sys"
   ]
  },
  {
   "cell_type": "code",
   "execution_count": null,
   "metadata": {},
   "outputs": [],
   "source": [
    "while True:\n",
    "    print('Type exit to exit')\n",
    "    response = input()\n",
    "    if response == 'exit':\n",
    "        sys.exit()\n",
    "    print('You typed ' + response + '.')"
   ]
  },
  {
   "cell_type": "markdown",
   "metadata": {},
   "source": [
    "Below is a program to make a guess the number game"
   ]
  },
  {
   "cell_type": "code",
   "execution_count": null,
   "metadata": {},
   "outputs": [],
   "source": [
    "secret_num = random.randint(1,20)\n",
    "print ('I am thinking of a number between 1 and 20.')\n",
    "\n",
    "for guesses_taken in range(1,7):\n",
    "    print('Take a guess.')\n",
    "    guess = int(input())\n",
    "    \n",
    "    if guess < secret_num:\n",
    "        print('Your guess is too low.')\n",
    "    elif guess > secret_num:\n",
    "        print('Your guess is too high.')\n",
    "    else:\n",
    "        break\n",
    "    \n",
    "if guess == secret_num:\n",
    "    print('Good job! You guessed my number in ' + str(guesses_taken) + ' guesses!')\n",
    "else:\n",
    "    print('Nope. The number I was thinking of was ' + str(secret_num)) "
   ]
  },
  {
   "cell_type": "code",
   "execution_count": null,
   "metadata": {},
   "outputs": [],
   "source": [
    "import random, sys\n",
    "\n",
    "print('ROCK, PAPER, SCISSORS')\n",
    "wins = 0\n",
    "losses = 0\n",
    "ties = 0\n",
    "\n",
    "rps_list = ['r','p','s']\n",
    "\n",
    "while True:\n",
    "    print( '%s Wins, %s Losses, %s Ties' % (wins,losses,ties))\n",
    "    while True:\n",
    "        print('Enter your move:(r)ock (p)aper (s)cissors or (q)uit')\n",
    "        playerchoice = input()\n",
    "        if playerchoice == 'q':\n",
    "            sys.exit()\n",
    "        elif playerchoice == 'r' or playerchoice == 'p' or playerchoice == 's':\n",
    "            break\n",
    "        print('Type either: r, p, s or q')\n",
    "    \n",
    "    if playerchoice == 'r':\n",
    "        print('ROCK versus...')\n",
    "        comp_choice = random.choice(rps_list)\n",
    "        if comp_choice == 'r':\n",
    "            ties = ties + 1\n",
    "            print('ROCK!')\n",
    "            print('It''s a tie!')\n",
    "        elif comp_choice == 'p':\n",
    "            losses = losses + 1\n",
    "            print('PAPER!')\n",
    "            print('You lose.')\n",
    "        elif comp_choice == 's':\n",
    "            wins = wins + 1\n",
    "            print('SCISSORS!')\n",
    "            print('You win!')\n",
    "    elif playerchoice == 'p':\n",
    "        print('PAPER versus...')\n",
    "        comp_choice = random.choice(rps_list)\n",
    "        if comp_choice == 'r':\n",
    "            wins = wins + 1\n",
    "            print('ROCK!')\n",
    "            print('You win!')\n",
    "        elif comp_choice == 'p':\n",
    "            ties = ties + 1\n",
    "            print('PAPER!')\n",
    "            print('It''s a tie!')\n",
    "        elif comp_choice == 's':\n",
    "            losses = losses + 1\n",
    "            print('SCISSORS!')\n",
    "            print('You lose')\n",
    "    elif playerchoice == 's':\n",
    "        print('SCISSORS versus...')\n",
    "        comp_choice = random.choice(rps_list)\n",
    "        if comp_choice == 'r':\n",
    "            losses = losses + 1\n",
    "            print('ROCK!')\n",
    "            print('You lose.')\n",
    "        elif comp_choice == 'p':\n",
    "            wins = wins + 1\n",
    "            print('PAPER!')\n",
    "            print('You win!')\n",
    "        elif comp_choice == 's':\n",
    "            ties = ties + 1\n",
    "            print('SCISSORS!')\n",
    "            print('It''s a tie!')"
   ]
  }
 ],
 "metadata": {
  "kernelspec": {
   "display_name": "Python 3",
   "language": "python",
   "name": "python3"
  },
  "language_info": {
   "codemirror_mode": {
    "name": "ipython",
    "version": 3
   },
   "file_extension": ".py",
   "mimetype": "text/x-python",
   "name": "python",
   "nbconvert_exporter": "python",
   "pygments_lexer": "ipython3",
   "version": "3.11.5"
  },
  "orig_nbformat": 4
 },
 "nbformat": 4,
 "nbformat_minor": 2
}

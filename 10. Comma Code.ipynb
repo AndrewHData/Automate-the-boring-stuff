{
 "cells": [
  {
   "cell_type": "markdown",
   "metadata": {},
   "source": [
    "# Comma Code\n",
    "Say you have a list value like this:\n",
    "\n",
    "`spam = ['apples', 'bananas', 'tofu', 'cats']`\n",
    "\n",
    "Write a function that takes a list value as an argument and returns a string with all the items separated by a comma and a space, with and inserted before the last item. \n",
    "\n",
    "For example, passing the previous spam list to the function would return 'apples, bananas, tofu, and cats'. \n",
    "\n",
    "But your function should be able to work with any list value passed to it. Be sure to test the case where an empty list [] is passed to your function."
   ]
  },
  {
   "cell_type": "code",
   "execution_count": null,
   "metadata": {},
   "outputs": [],
   "source": [
    "itemlist = []\n",
    "while True:\n",
    "    print('Add item ' + str(len(itemlist) + 1) + ' to the items list or enter nothing to stop:')\n",
    "    item_to_add = input()\n",
    "    if item_to_add == '':\n",
    "        break\n",
    "    itemlist = itemlist + [item_to_add]\n",
    "    lastitem = itemlist[-1]\n",
    "    itemliststring = str(itemlist[:-1])\n",
    "print(itemliststring[1:-1] + ', and ' + \"'\" + lastitem + \"'.\")"
   ]
  }
 ],
 "metadata": {
  "kernelspec": {
   "display_name": "base",
   "language": "python",
   "name": "python3"
  },
  "language_info": {
   "codemirror_mode": {
    "name": "ipython",
    "version": 3
   },
   "file_extension": ".py",
   "mimetype": "text/x-python",
   "name": "python",
   "nbconvert_exporter": "python",
   "pygments_lexer": "ipython3",
   "version": "3.11.4"
  },
  "orig_nbformat": 4
 },
 "nbformat": 4,
 "nbformat_minor": 2
}

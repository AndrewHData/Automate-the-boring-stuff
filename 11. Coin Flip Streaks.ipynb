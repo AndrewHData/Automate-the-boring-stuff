{
 "cells": [
  {
   "cell_type": "markdown",
   "metadata": {},
   "source": [
    "# Coin Flip Streaks\n",
    "For this exercise, we’ll try doing an experiment. If you flip a coin 100 times and write down an “H” for each heads and “T” for each tails, you’ll create a list that looks like “T T T T H H H H T T.” If you ask a human to make up 100 random coin flips, you’ll probably end up with alternating head-tail results like “H T H T H H T H T T,” which looks random (to humans), but isn’t mathematically random. A human will almost never write down a streak of six heads or six tails in a row, even though it is highly likely to happen in truly random coin flips. Humans are predictably bad at being random.\n",
    "\n"
   ]
  },
  {
   "cell_type": "markdown",
   "metadata": {},
   "source": [
    "Write a program to find out how often a streak of six heads or a streak of six tails comes up in a randomly generated list of heads and tails. Your program breaks up the experiment into two parts: the first part generates a list of randomly selected 'heads' and 'tails' values, and the second part checks if there is a streak in it. Put all of this code in a loop that repeats the experiment 10,000 times so we can find out what percentage of the coin flips contains a streak of six heads or tails in a row. As a hint, the function call random.randint(0, 1) will return a 0 value 50% of the time and a 1 value the other 50% of the time.<BR><br>You can start with the following template:\n"
   ]
  },
  {
   "cell_type": "code",
   "execution_count": null,
   "metadata": {},
   "outputs": [],
   "source": [
    "import random\n",
    "number_of_streaks = 0\n",
    "for experiment_number in range(10000):\n",
    "    # Code that creates a list of 100 'heads' or 'tails' values.\n",
    "    flip_list = []\n",
    "    for _ in range(100):\n",
    "        coin_flip = random.randint(0,1)\n",
    "        flip_list.append(coin_flip)\n",
    "        \n",
    "\n",
    "    # Code that checks if there is a streak of 6 heads or tails in a row.\n",
    "    streak = 0\n",
    "    for i in range(len(flip_list)):\n",
    "        if i == 0:\n",
    "            streak += 1\n",
    "        elif flip_list[i] == flip_list[i-1]:\n",
    "            streak += 1\n",
    "        else:\n",
    "            streak = 1\n",
    "        if streak == 6:\n",
    "            number_of_streaks += 1\n",
    "            break\n",
    "    # The above was code was inspired by https://codereview.stackexchange.com/questions/275130/coin-flip-streaks-in-python\n",
    "    print(flip_results)        \n",
    "print('Chance of streak: %s%%' % (number_of_streaks / 100))\n",
    "\n"
   ]
  }
 ],
 "metadata": {
  "kernelspec": {
   "display_name": "base",
   "language": "python",
   "name": "python3"
  },
  "language_info": {
   "codemirror_mode": {
    "name": "ipython",
    "version": 3
   },
   "file_extension": ".py",
   "mimetype": "text/x-python",
   "name": "python",
   "nbconvert_exporter": "python",
   "pygments_lexer": "ipython3",
   "version": "3.11.4"
  },
  "orig_nbformat": 4
 },
 "nbformat": 4,
 "nbformat_minor": 2
}

{
 "cells": [
  {
   "cell_type": "markdown",
   "metadata": {},
   "source": [
    "### Dictionaries\n",
    "\n",
    "It's like a list, but it's a flexible way to access and organise data. <br>\n",
    "Where with list you have a set order through indexes, with dictionaries, it's not really the case.\n",
    "\n",
    "\n",
    "Main part of a dictionary is the 'Key' and the 'Value'.<br>\n",
    "Key is the category/field name. <br>\n",
    "Value is the...value"
   ]
  },
  {
   "cell_type": "code",
   "execution_count": null,
   "metadata": {},
   "outputs": [],
   "source": [
    "# Example of assigning a variable a dictionary\n",
    "my_dog = {'size': 'XL' , 'color':'tan brown' , 'disposition':'absolute goofball'}"
   ]
  },
  {
   "cell_type": "markdown",
   "metadata": {},
   "source": [
    "Remember, there is no order in a dictionary, like al ist. You can make one because Keys can be integers, butwhy do that?"
   ]
  },
  {
   "cell_type": "markdown",
   "metadata": {},
   "source": [
    "### Storing and adding data using dictionaries\n",
    "Using a variety of variables and input, you can actually assign and store data in dictionaries"
   ]
  },
  {
   "cell_type": "code",
   "execution_count": null,
   "metadata": {},
   "outputs": [],
   "source": [
    "# Example of using dictionary to store data\n",
    "\n",
    "birthdays = {'Alice':'Apr 1' , 'Bob':'Dec 12' , 'Carol':'Mar 14'}\n",
    "\n",
    "while True:\n",
    "    print('Enter a name: (blank to quit) ')\n",
    "    name = input()\n",
    "    if name == '':\n",
    "        break\n",
    "    \n",
    "    if name in birthdays:                                           # if the name typed is in birthdays dictionary....\n",
    "        print(birthdays[name] + ' is the birthday of ' + name)      # so I think it looks for the name you inputted in the dictionary, then prints the value\n",
    "    else:\n",
    "        print('I do not have birthday information for ' + name)\n",
    "        print('What is their birthday? ')\n",
    "        new_bday = input()\n",
    "        birthdays[name] = new_bday                                  # You can add to the dictionary using the square bracket syntax combined with the assignment = \n",
    "        print('Birthday database updated.')"
   ]
  },
  {
   "cell_type": "markdown",
   "metadata": {},
   "source": [
    "### Methods: keys(), values(), items()\n",
    "\n",
    "- keys() method returns a list of the keys in a dictionary\n",
    "- values() method returns a list of the values\n",
    "- items() method returns both the key and value"
   ]
  },
  {
   "cell_type": "code",
   "execution_count": null,
   "metadata": {},
   "outputs": [],
   "source": [
    "# Example of using keys() method\n",
    "\n",
    "my_dog = {'size': 'XL' , 'color':'tan brown' , 'disposition':'absolute goofball'}\n",
    "\n",
    "for k in my_dog.keys():\n",
    "    print(k)"
   ]
  },
  {
   "cell_type": "code",
   "execution_count": null,
   "metadata": {},
   "outputs": [],
   "source": [
    "# Example of using values() method\n",
    "\n",
    "my_dog = {'size': 'XL' , 'color':'tan brown' , 'disposition':'absolute goofball'}\n",
    "\n",
    "for v in my_dog.values():\n",
    "    print(v)"
   ]
  },
  {
   "cell_type": "code",
   "execution_count": null,
   "metadata": {},
   "outputs": [],
   "source": [
    "# Example of using items() method\n",
    "\n",
    "my_dog = {'size': 'XL' , 'color':'tan brown' , 'disposition':'absolute goofball'}\n",
    "\n",
    "for i in my_dog.items():\n",
    "    print(i)"
   ]
  },
  {
   "cell_type": "markdown",
   "metadata": {},
   "source": [
    "### Using `in` or `not in` to check\n",
    "\n",
    "We can use in or not in to check whether the key or value is in a dictionary"
   ]
  },
  {
   "cell_type": "code",
   "execution_count": null,
   "metadata": {},
   "outputs": [],
   "source": [
    "# Example of `in` and `not in`\n",
    "\n",
    "my_dog = {'size': 'XL' , 'color':'tan brown' , 'disposition':'absolute goofball'}\n",
    "print('Is \"color\" a key in the my_dog dictionary?' , ('color' in my_dog.keys()) )\n",
    "print('Is \"name\" a key in  the my_dog dictionary?' , ('name' in my_dog.keys()) )\n",
    "print('Is \"color\" a value in the my_dog dictionary?' , ('color' in my_dog.values()) )\n",
    "print('Is \"feline\" NOT a value in the my_dog dictionary?' , ('feline' not in my_dog.values()) )"
   ]
  },
  {
   "cell_type": "markdown",
   "metadata": {},
   "source": [
    "### The `get()` Method\n",
    "\n",
    "Like an If Else statement.<br>\n",
    "\"Get this key. If it ain't there, return this value instead.\"<br>\n",
    "\n",
    "If we don't use a get method, we could end up returning an error.<br>\n",
    "By default, the get() method returns a zero"
   ]
  },
  {
   "cell_type": "code",
   "execution_count": null,
   "metadata": {},
   "outputs": [],
   "source": [
    "# Example of `get()`\n",
    "my_pets = { 'cats': 2 , 'dogs': 1 }\n",
    "\n",
    "print('I am bringing ' + str(my_pets.get('cats',0)) + ' cats to the vet.')\n",
    "print('I am bringing ' + str(my_pets.get('elephants',0)) + ' elephants to the vet.')"
   ]
  },
  {
   "cell_type": "markdown",
   "metadata": {},
   "source": [
    "### `setdefault` method\n",
    "Instead of using an if condition to set a default if it's not in the dictionary, we can use the `setdefault()` method to achieve the same thing in one line"
   ]
  },
  {
   "cell_type": "code",
   "execution_count": null,
   "metadata": {},
   "outputs": [],
   "source": [
    "# Example of using `if` to create the default if the value is not there.\n",
    "cat = {'name': 'Minerva', 'age': 5}\n",
    "if 'color' not in cat:\n",
    "    cat['color'] = 'grey'"
   ]
  },
  {
   "cell_type": "code",
   "execution_count": null,
   "metadata": {},
   "outputs": [],
   "source": [
    "# Example of using `setdefault()` to achieve the same thing in one line.\n",
    "cat = {'name': 'Minerva', 'age': 5}\n",
    "cat.setdefault('color','grey')"
   ]
  },
  {
   "cell_type": "markdown",
   "metadata": {},
   "source": [
    "#### Note on `setdefault`\n",
    "\n",
    "Usig  the `setdefault()` method again does not override the previous use. This is because the dictionary now has that key.<br>\n",
    "In the example below, the key is 'color'"
   ]
  },
  {
   "cell_type": "code",
   "execution_count": null,
   "metadata": {},
   "outputs": [],
   "source": [
    "# Example of using `setdefault()` again\n",
    "cat = {'name': 'Minerva', 'age': 5}\n",
    "print(cat)\n",
    "\n",
    "cat.setdefault('color','grey')\n",
    "print(cat)\n",
    "\n",
    "cat.setdefault('color' , 'white')\n",
    "print(cat)"
   ]
  },
  {
   "cell_type": "markdown",
   "metadata": {},
   "source": [
    "#### Example of Count Character program\n",
    "\n",
    "Uses setdefault to start"
   ]
  },
  {
   "cell_type": "code",
   "execution_count": null,
   "metadata": {},
   "outputs": [],
   "source": [
    "message = 'To sit in solemn silence in a dull, dark dock in a pestilential prison with a life-long lock, awaiting the sensation of a short, sharp shock from a cheap and chippy chopper with a big, black block.'\n",
    "\n",
    "count = {}\n",
    "\n",
    "for character in message:\n",
    "    count.setdefault(character, 0)\n",
    "    count[character] = count[character] + 1\n",
    "    \n",
    "print(count)"
   ]
  },
  {
   "cell_type": "markdown",
   "metadata": {},
   "source": [
    "### Pretty Printing\n",
    "\n",
    "Import the `pprint` module and use `pprint()` and `pformat()` to display items in dictionary in a cleaner way."
   ]
  },
  {
   "cell_type": "code",
   "execution_count": null,
   "metadata": {},
   "outputs": [],
   "source": [
    "# Example of pprint below\n",
    "import pprint\n",
    "\n",
    "message = 'To sit in solemn silence in a dull, dark dock in a pestilential prison with a life-long lock, awaiting the sensation of a short, sharp shock from a cheap and chippy chopper with a big, black block.'\n",
    "\n",
    "count = {}\n",
    "\n",
    "for character in message:\n",
    "    count.setdefault(character, 0)\n",
    "    count[character] = count[character] + 1\n",
    "    \n",
    "pprint.pprint(count)"
   ]
  },
  {
   "cell_type": "markdown",
   "metadata": {},
   "source": [
    "## Tic Tac Toe program\n",
    "We can create data structures using dictionaries to build a tic tac toe program "
   ]
  },
  {
   "cell_type": "code",
   "execution_count": null,
   "metadata": {},
   "outputs": [],
   "source": [
    "theBoard = {'top-L': ' ', 'top-M': ' ', 'top-R': ' ',\n",
    "            'mid-L': ' ', 'mid-M': ' ', 'mid-R': ' ',\n",
    "            'low-L': ' ', 'low-M': ' ', 'low-R': ' '}\n",
    "\n",
    "def printBoard(board):\n",
    "    print(board['top-L'] + '|' + board['top-M'] + '|' + board['top-R'])\n",
    "    print('-+-+-')\n",
    "    print(board['mid-L'] + '|' + board['mid-M'] + '|' + board['mid-R'])\n",
    "    print('-+-+-')\n",
    "    print(board['low-L'] + '|' + board['low-M'] + '|' + board['low-R'])\n",
    "turn = 'X'\n",
    "for i in range(9):\n",
    "    printBoard(theBoard)\n",
    "    print('Turn for ' + turn + '. Move on which space?')\n",
    "    move = input()\n",
    "    theBoard[move] = turn\n",
    "    if turn == 'X':\n",
    "         turn = 'O'\n",
    "    else:\n",
    "         turn = 'X'\n",
    "printBoard(theBoard)"
   ]
  },
  {
   "cell_type": "markdown",
   "metadata": {},
   "source": [
    "## Nested Dictionaries and Lists\n",
    "Bascially when Dictioanries and Lists contain other dictionaries and lists"
   ]
  },
  {
   "cell_type": "code",
   "execution_count": 12,
   "metadata": {},
   "outputs": [
    {
     "name": "stdout",
     "output_type": "stream",
     "text": [
      "Number of things being brought:\n",
      " - Apples         7\n",
      " - Cups           3\n",
      " - Cakes          0\n",
      " - Ham Sandwiches 3\n",
      " - Apple Pies     1\n"
     ]
    }
   ],
   "source": [
    "# Below is an example of nested dictionaries and how they can be used in a functions\n",
    "\n",
    "allGuests = {'Alice': {'apples':5 , 'pretzels':12},\n",
    "             'Bob': {'ham sandwiches':3 , 'apples':2},\n",
    "             'Carol': {'cups':3, 'apple pies':1}}\n",
    "\n",
    "def totalBrought(guests,item):\n",
    "    numBrought = 0\n",
    "    for k, v in guests.items():\n",
    "        numBrought = numBrought + v.get(item,0)\n",
    "    return numBrought\n",
    "\n",
    "print('Number of things being brought:')\n",
    "print(' - Apples         ' + str(totalBrought(allGuests, 'apples')))\n",
    "print(' - Cups           ' + str(totalBrought(allGuests, 'cups')))\n",
    "print(' - Cakes          ' + str(totalBrought(allGuests, 'cakes')))\n",
    "print(' - Ham Sandwiches ' + str(totalBrought(allGuests, 'ham sandwiches')))\n",
    "print(' - Apple Pies     ' + str(totalBrought(allGuests, 'apple pies')))"
   ]
  },
  {
   "cell_type": "markdown",
   "metadata": {},
   "source": [
    "### Explanation of how the above program works\n",
    "\n",
    "Inside the totalBrought() function, the for loop iterates over the key-value pairs in guests. \n",
    "\n",
    "Inside the loop, the string of the guest’s name is assigned to k, and the dictionary of picnic items they’re bringing is assigned to v. \n",
    "\n",
    "If the item parameter exists as a key in this dictionary, its value (the quantity) is added to numBrought. \n",
    "\n",
    "If it does not exist as a key, the get() method returns 0 to be added to numBrought."
   ]
  }
 ],
 "metadata": {
  "kernelspec": {
   "display_name": "base",
   "language": "python",
   "name": "python3"
  },
  "language_info": {
   "codemirror_mode": {
    "name": "ipython",
    "version": 3
   },
   "file_extension": ".py",
   "mimetype": "text/x-python",
   "name": "python",
   "nbconvert_exporter": "python",
   "pygments_lexer": "ipython3",
   "version": "3.11.4"
  },
  "orig_nbformat": 4
 },
 "nbformat": 4,
 "nbformat_minor": 2
}

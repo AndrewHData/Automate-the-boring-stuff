{
 "cells": [
  {
   "cell_type": "markdown",
   "metadata": {},
   "source": [
    "### Dictionaries\n",
    "\n",
    "It's like a list, but it's a flexible way to access and organise data. <br>\n",
    "Where with list you have a set order through indexes, with dictionaries, it's not really the case.\n",
    "\n",
    "\n",
    "Main part of a dictionary is the 'Key' and the 'Value'.<br>\n",
    "Key is the category/field name. <br>\n",
    "Value is the...value"
   ]
  },
  {
   "cell_type": "code",
   "execution_count": null,
   "metadata": {},
   "outputs": [],
   "source": [
    "# Example of assigning a variable a dictionary\n",
    "my_dog = {'size': 'XL' , 'color':'tan brown' , 'disposition':'absolute goofball'}"
   ]
  },
  {
   "cell_type": "markdown",
   "metadata": {},
   "source": [
    "Remember, there is no order in a dictionary, like al ist. You can make one because Keys can be integers, butwhy do that?"
   ]
  },
  {
   "cell_type": "markdown",
   "metadata": {},
   "source": [
    "### Storing and adding data using dictionaries\n",
    "Using a variety of variables and input, you can actually assign and store data in dictionaries"
   ]
  },
  {
   "cell_type": "code",
   "execution_count": null,
   "metadata": {},
   "outputs": [],
   "source": [
    "# Example of using dictionary to store data\n",
    "\n",
    "birthdays = {'Alice':'Apr 1' , 'Bob':'Dec 12' , 'Carol':'Mar 14'}\n",
    "\n",
    "while True:\n",
    "    print('Enter a name: (blank to quit) ')\n",
    "    name = input()\n",
    "    if name == '':\n",
    "        break\n",
    "    \n",
    "    if name in birthdays:                                           # if the name typed is in birthdays dictionary....\n",
    "        print(birthdays[name] + ' is the birthday of ' + name)      # so I think it looks for the name you inputted in the dictionary, then prints the value\n",
    "    else:\n",
    "        print('I do not have birthday information for ' + name)\n",
    "        print('What is their birthday? ')\n",
    "        new_bday = input()\n",
    "        birthdays[name] = new_bday                                  # You can add to the dictionary using the square bracket syntax combined with the assignment = \n",
    "        print('Birthday database updated.')"
   ]
  },
  {
   "cell_type": "markdown",
   "metadata": {},
   "source": [
    "### Methods: keys(), values(), items()\n",
    "\n",
    "- keys() method returns a list of the keys in a dictionary\n",
    "- values() method returns a list of the values\n",
    "- items() method returns both the key and value"
   ]
  },
  {
   "cell_type": "code",
   "execution_count": 5,
   "metadata": {},
   "outputs": [
    {
     "name": "stdout",
     "output_type": "stream",
     "text": [
      "size\n",
      "color\n",
      "disposition\n"
     ]
    }
   ],
   "source": [
    "# Example of using keys() method\n",
    "\n",
    "my_dog = {'size': 'XL' , 'color':'tan brown' , 'disposition':'absolute goofball'}\n",
    "\n",
    "for k in my_dog.keys():\n",
    "    print(k)"
   ]
  },
  {
   "cell_type": "code",
   "execution_count": 6,
   "metadata": {},
   "outputs": [
    {
     "name": "stdout",
     "output_type": "stream",
     "text": [
      "XL\n",
      "tan brown\n",
      "absolute goofball\n"
     ]
    }
   ],
   "source": [
    "# Example of using values() method\n",
    "\n",
    "my_dog = {'size': 'XL' , 'color':'tan brown' , 'disposition':'absolute goofball'}\n",
    "\n",
    "for v in my_dog.values():\n",
    "    print(v)"
   ]
  },
  {
   "cell_type": "code",
   "execution_count": 7,
   "metadata": {},
   "outputs": [
    {
     "name": "stdout",
     "output_type": "stream",
     "text": [
      "('size', 'XL')\n",
      "('color', 'tan brown')\n",
      "('disposition', 'absolute goofball')\n"
     ]
    }
   ],
   "source": [
    "# Example of using items() method\n",
    "\n",
    "my_dog = {'size': 'XL' , 'color':'tan brown' , 'disposition':'absolute goofball'}\n",
    "\n",
    "for i in my_dog.items():\n",
    "    print(i)"
   ]
  },
  {
   "cell_type": "markdown",
   "metadata": {},
   "source": [
    "### Using `in` or `not in` to check\n",
    "\n",
    "We can use in or not in to check whether the key or value is in a dictionary"
   ]
  },
  {
   "cell_type": "code",
   "execution_count": 26,
   "metadata": {},
   "outputs": [
    {
     "name": "stdout",
     "output_type": "stream",
     "text": [
      "Is \"color\" a key in the my_dog dictionary? True\n",
      "Is \"name\" a key in  the my_dog dictionary? False\n",
      "Is \"color\" a value in the my_dog dictionary? False\n",
      "Is \"feline\" NOT a value in the my_dog dictionary? True\n"
     ]
    }
   ],
   "source": [
    "# Example of `in` and `not in`\n",
    "\n",
    "my_dog = {'size': 'XL' , 'color':'tan brown' , 'disposition':'absolute goofball'}\n",
    "print('Is \"color\" a key in the my_dog dictionary?' , ('color' in my_dog.keys()) )\n",
    "print('Is \"name\" a key in  the my_dog dictionary?' , ('name' in my_dog.keys()) )\n",
    "print('Is \"color\" a value in the my_dog dictionary?' , ('color' in my_dog.values()) )\n",
    "print('Is \"feline\" NOT a value in the my_dog dictionary?' , ('feline' not in my_dog.values()) )"
   ]
  },
  {
   "cell_type": "markdown",
   "metadata": {},
   "source": [
    "### The `get()` Method\n",
    "\n",
    "Like an If Else statement.<br>\n",
    "\"Get this key. If it ain't there, return this value instead.\"<br>\n",
    "\n",
    "If we don't use a get method, we could end up returning an error.<br>\n",
    "By default, the get() method returns a zero"
   ]
  },
  {
   "cell_type": "code",
   "execution_count": 30,
   "metadata": {},
   "outputs": [
    {
     "name": "stdout",
     "output_type": "stream",
     "text": [
      "I am bringing 2 cats to the vet.\n",
      "I am bringing 0 elephants to the vet.\n"
     ]
    }
   ],
   "source": [
    "# Example of `get()`\n",
    "my_pets = { 'cats': 2 , 'dogs': 1 }\n",
    "\n",
    "print('I am bringing ' + str(my_pets.get('cats',0)) + ' cats to the vet.')\n",
    "print('I am bringing ' + str(my_pets.get('elephants',0)) + ' elephants to the vet.')"
   ]
  },
  {
   "cell_type": "markdown",
   "metadata": {},
   "source": [
    "### `setdefault` method\n",
    "Instead of using an if condition to set a default if it's not in the dictionary, we can use the `setdefault()` method to achieve the same thing in one line"
   ]
  },
  {
   "cell_type": "code",
   "execution_count": null,
   "metadata": {},
   "outputs": [],
   "source": [
    "# Example of using `if` to create the default if the value is not there.\n",
    "cat = {'name': 'Minerva', 'age': 5}\n",
    "if 'color' not in cat:\n",
    "    cat['color'] = 'grey'"
   ]
  },
  {
   "cell_type": "code",
   "execution_count": null,
   "metadata": {},
   "outputs": [],
   "source": [
    "# Example of using `setdefault()` to achieve the same thing in one line.\n",
    "cat = {'name': 'Minerva', 'age': 5}\n",
    "cat.setdefault('color','grey')"
   ]
  },
  {
   "cell_type": "markdown",
   "metadata": {},
   "source": [
    "#### Note on `setdefault`\n",
    "\n",
    "Usig  the `setdefault()` method again does not override the previous use. This is because the dictionary now has that key.<br>\n",
    "In the example below, the key is 'color'"
   ]
  },
  {
   "cell_type": "code",
   "execution_count": 33,
   "metadata": {},
   "outputs": [
    {
     "name": "stdout",
     "output_type": "stream",
     "text": [
      "{'name': 'Minerva', 'age': 5}\n",
      "{'name': 'Minerva', 'age': 5, 'color': 'grey'}\n",
      "{'name': 'Minerva', 'age': 5, 'color': 'grey'}\n"
     ]
    }
   ],
   "source": [
    "# Example of using `setdefault()` again\n",
    "cat = {'name': 'Minerva', 'age': 5}\n",
    "print(cat)\n",
    "\n",
    "cat.setdefault('color','grey')\n",
    "print(cat)\n",
    "\n",
    "cat.setdefault('color' , 'white')\n",
    "print(cat)"
   ]
  },
  {
   "cell_type": "markdown",
   "metadata": {},
   "source": [
    "#### Example of Count Character program\n",
    "\n",
    "Uses setdefault to start"
   ]
  },
  {
   "cell_type": "code",
   "execution_count": 34,
   "metadata": {},
   "outputs": [
    {
     "name": "stdout",
     "output_type": "stream",
     "text": [
      "{'I': 1, 't': 25, ' ': 83, 'w': 11, 'a': 36, 's': 18, 'b': 13, 'r': 24, 'i': 22, 'g': 11, 'h': 19, ',': 5, 'u': 15, 'c': 8, 'o': 27, 'l': 20, 'd': 17, 'y': 11, 'n': 27, 'S': 3, 'e': 40, 'p': 10, 'm': 7, '.': 6, 'v': 4, 'T': 3, 'k': 1, 'M': 2, 'f': 9, 'A': 2}\n"
     ]
    }
   ],
   "source": [
    "message = 'To sit in solemn silence in a dull, dark dock in a pestilential prison with a life-long lock, awaiting the sensation of a short, sharp shock from a cheap and chippy chopper with a big, black block.'\n",
    "\n",
    "count = {}\n",
    "\n",
    "for character in message:\n",
    "    count.setdefault(character, 0)\n",
    "    count[character] = count[character] + 1\n",
    "    \n",
    "print(count)"
   ]
  },
  {
   "cell_type": "markdown",
   "metadata": {},
   "source": [
    "### Pretty Printing\n",
    "\n",
    "Import the `pprint` module and use `pprint()` and `pformat()` to display items in dictionary in a cleaner way."
   ]
  },
  {
   "cell_type": "code",
   "execution_count": 36,
   "metadata": {},
   "outputs": [
    {
     "name": "stdout",
     "output_type": "stream",
     "text": [
      "{' ': 83,\n",
      " ',': 5,\n",
      " '.': 6,\n",
      " 'A': 2,\n",
      " 'I': 1,\n",
      " 'M': 2,\n",
      " 'S': 3,\n",
      " 'T': 3,\n",
      " 'a': 36,\n",
      " 'b': 13,\n",
      " 'c': 8,\n",
      " 'd': 17,\n",
      " 'e': 40,\n",
      " 'f': 9,\n",
      " 'g': 11,\n",
      " 'h': 19,\n",
      " 'i': 22,\n",
      " 'k': 1,\n",
      " 'l': 20,\n",
      " 'm': 7,\n",
      " 'n': 27,\n",
      " 'o': 27,\n",
      " 'p': 10,\n",
      " 'r': 24,\n",
      " 's': 18,\n",
      " 't': 25,\n",
      " 'u': 15,\n",
      " 'v': 4,\n",
      " 'w': 11,\n",
      " 'y': 11}\n"
     ]
    }
   ],
   "source": [
    "# Example of pprint below\n",
    "import pprint\n",
    "\n",
    "message = 'To sit in solemn silence in a dull, dark dock in a pestilential prison with a life-long lock, awaiting the sensation of a short, sharp shock from a cheap and chippy chopper with a big, black block.'\n",
    "\n",
    "count = {}\n",
    "\n",
    "for character in message:\n",
    "    count.setdefault(character, 0)\n",
    "    count[character] = count[character] + 1\n",
    "    \n",
    "pprint.pprint(count)"
   ]
  }
 ],
 "metadata": {
  "kernelspec": {
   "display_name": "base",
   "language": "python",
   "name": "python3"
  },
  "language_info": {
   "codemirror_mode": {
    "name": "ipython",
    "version": 3
   },
   "file_extension": ".py",
   "mimetype": "text/x-python",
   "name": "python",
   "nbconvert_exporter": "python",
   "pygments_lexer": "ipython3",
   "version": "3.11.4"
  },
  "orig_nbformat": 4
 },
 "nbformat": 4,
 "nbformat_minor": 2
}

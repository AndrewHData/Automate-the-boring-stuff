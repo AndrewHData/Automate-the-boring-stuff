{
 "cells": [
  {
   "cell_type": "markdown",
   "metadata": {},
   "source": [
    "There are a few ways to work with strings and escape characters. \n",
    "\n",
    "Because python will bugger up if we use single quotes and also apostrophes.\n",
    "\n",
    "Examples below"
   ]
  },
  {
   "cell_type": "markdown",
   "metadata": {},
   "source": [
    "Double quotes"
   ]
  },
  {
   "cell_type": "code",
   "execution_count": null,
   "metadata": {},
   "outputs": [],
   "source": [
    "# Double quotes\n",
    "\n",
    "spam = \"My cat's name is Minerva\"\n",
    "print(spam)"
   ]
  },
  {
   "cell_type": "markdown",
   "metadata": {},
   "source": [
    "Escape characters"
   ]
  },
  {
   "cell_type": "code",
   "execution_count": null,
   "metadata": {},
   "outputs": [],
   "source": [
    "# Escape characters\n",
    "\n",
    "spam = 'My cat\\'s name is Minerva'\n",
    "print(spam)"
   ]
  },
  {
   "cell_type": "markdown",
   "metadata": {},
   "source": [
    "Raw string to escape the escape"
   ]
  },
  {
   "cell_type": "code",
   "execution_count": null,
   "metadata": {},
   "outputs": [],
   "source": [
    "# Raw string to escape the escape\n",
    "print(r'C:\\Users\\Documents\\Python')"
   ]
  },
  {
   "cell_type": "markdown",
   "metadata": {},
   "source": [
    "Multiline Comments by surrounding with 3x double quotes"
   ]
  },
  {
   "cell_type": "code",
   "execution_count": null,
   "metadata": {},
   "outputs": [],
   "source": [
    "# Multiline comments\n",
    "\"\"\" This is not the greatest song in the world.\n",
    "\n",
    "No.\n",
    "\n",
    "This is just a tribute.\n",
    "\"\"\"\n",
    "\n",
    "def spam():\n",
    "    \"\"\"This is a multiline comment to help\n",
    "        explain what the spam() function does.\"\"\"\n",
    "\n",
    "    print('Hello!')\n",
    "    "
   ]
  },
  {
   "cell_type": "markdown",
   "metadata": {},
   "source": [
    "# Useful String Methods"
   ]
  },
  {
   "cell_type": "markdown",
   "metadata": {},
   "source": [
    "## The upper(), lower(), isupper(), and islower() Methods"
   ]
  },
  {
   "cell_type": "code",
   "execution_count": null,
   "metadata": {},
   "outputs": [],
   "source": [
    "# upper() Example\n",
    "spam = 'Hello, world!'\n",
    "spam = spam.upper()\n",
    "spam"
   ]
  },
  {
   "cell_type": "code",
   "execution_count": null,
   "metadata": {},
   "outputs": [],
   "source": [
    "# lower() example\n",
    "spam = 'Hello, world!'\n",
    "spam = spam.lower()\n",
    "spam"
   ]
  },
  {
   "cell_type": "code",
   "execution_count": null,
   "metadata": {},
   "outputs": [],
   "source": [
    "# Use case example\n",
    "print('How are you feeling?')\n",
    "feeling = input()\n",
    "if feeling.lower() == 'great':\n",
    "    print('I feel great too!')\n",
    "else:\n",
    "    print('Hope the rest of the day gets better for you')"
   ]
  },
  {
   "cell_type": "code",
   "execution_count": null,
   "metadata": {},
   "outputs": [],
   "source": [
    "# isupper() example\n",
    "uppercase = 'HELLO'\n",
    "print(uppercase.isupper())\n",
    "\n",
    "# change it to lowercase\n",
    "uppercase = uppercase.lower()\n",
    "print(uppercase.isupper())"
   ]
  },
  {
   "cell_type": "code",
   "execution_count": null,
   "metadata": {},
   "outputs": [],
   "source": [
    "# islower() example\n",
    "lowercase = 'hello'\n",
    "print(lowercase.islower())\n",
    "\n",
    "# change it to uppercase\n",
    "lowercase = lowercase.upper()\n",
    "print(lowercase.islower())"
   ]
  },
  {
   "cell_type": "markdown",
   "metadata": {},
   "source": [
    "## Other isX() methods\n",
    "- `isalpha()` : True if string only has letters and is not blank\n",
    "- `isalnum()` : True if string has letters & numbers and is not blank\n",
    "- `isdecimal()` : True if only numeric characters and not blank. The dot '.' is not considered a decimal point!\n",
    "- `isspace()` : True if only spaces, tabs and new lines and not blank\n",
    "- `istitle()` : True if Titlecase and not blank"
   ]
  },
  {
   "cell_type": "markdown",
   "metadata": {},
   "source": [
    "### Use case for isX() methods"
   ]
  },
  {
   "cell_type": "code",
   "execution_count": null,
   "metadata": {},
   "outputs": [],
   "source": [
    "while True:\n",
    "    print('Enter your age')\n",
    "    age = input()\n",
    "    if age.isdecimal():\n",
    "        break\n",
    "    print('Please enter a number for your age.')"
   ]
  },
  {
   "cell_type": "markdown",
   "metadata": {},
   "source": []
  }
 ],
 "metadata": {
  "kernelspec": {
   "display_name": "base",
   "language": "python",
   "name": "python3"
  },
  "language_info": {
   "codemirror_mode": {
    "name": "ipython",
    "version": 3
   },
   "file_extension": ".py",
   "mimetype": "text/x-python",
   "name": "python",
   "nbconvert_exporter": "python",
   "pygments_lexer": "ipython3",
   "version": "3.11.4"
  },
  "orig_nbformat": 4
 },
 "nbformat": 4,
 "nbformat_minor": 2
}

{
 "cells": [
  {
   "cell_type": "markdown",
   "metadata": {},
   "source": [
    "There are a few ways to work with strings and escape characters. \n",
    "\n",
    "Because python will bugger up if we use single quotes and also apostrophes.\n",
    "\n",
    "Examples below"
   ]
  },
  {
   "cell_type": "markdown",
   "metadata": {},
   "source": [
    "Double quotes"
   ]
  },
  {
   "cell_type": "code",
   "execution_count": null,
   "metadata": {},
   "outputs": [],
   "source": [
    "# Double quotes\n",
    "\n",
    "spam = \"My cat's name is Minerva\"\n",
    "print(spam)"
   ]
  },
  {
   "cell_type": "markdown",
   "metadata": {},
   "source": [
    "Escape characters"
   ]
  },
  {
   "cell_type": "code",
   "execution_count": null,
   "metadata": {},
   "outputs": [],
   "source": [
    "# Escape characters\n",
    "\n",
    "spam = 'My cat\\'s name is Minerva'\n",
    "print(spam)"
   ]
  },
  {
   "cell_type": "markdown",
   "metadata": {},
   "source": [
    "Raw string to escape the escape"
   ]
  },
  {
   "cell_type": "code",
   "execution_count": null,
   "metadata": {},
   "outputs": [],
   "source": [
    "# Raw string to escape the escape\n",
    "print(r'C:\\Users\\Documents\\Python')"
   ]
  },
  {
   "cell_type": "markdown",
   "metadata": {},
   "source": [
    "Multiline Comments by surrounding with 3x double quotes"
   ]
  },
  {
   "cell_type": "code",
   "execution_count": null,
   "metadata": {},
   "outputs": [],
   "source": [
    "# Multiline comments\n",
    "\"\"\" This is not the greatest song in the world.\n",
    "\n",
    "No.\n",
    "\n",
    "This is just a tribute.\n",
    "\"\"\"\n",
    "\n",
    "def spam():\n",
    "    \"\"\"This is a multiline comment to help\n",
    "        explain what the spam() function does.\"\"\"\n",
    "\n",
    "    print('Hello!')\n",
    "    "
   ]
  },
  {
   "cell_type": "markdown",
   "metadata": {},
   "source": [
    "# Useful String Methods"
   ]
  },
  {
   "cell_type": "markdown",
   "metadata": {},
   "source": [
    "## The upper(), lower(), isupper(), and islower() Methods"
   ]
  },
  {
   "cell_type": "code",
   "execution_count": null,
   "metadata": {},
   "outputs": [],
   "source": [
    "# upper() Example\n",
    "spam = 'Hello, world!'\n",
    "spam = spam.upper()\n",
    "spam"
   ]
  },
  {
   "cell_type": "code",
   "execution_count": null,
   "metadata": {},
   "outputs": [],
   "source": [
    "# lower() example\n",
    "spam = 'Hello, world!'\n",
    "spam = spam.lower()\n",
    "spam"
   ]
  },
  {
   "cell_type": "code",
   "execution_count": null,
   "metadata": {},
   "outputs": [],
   "source": [
    "# Use case example\n",
    "print('How are you feeling?')\n",
    "feeling = input()\n",
    "if feeling.lower() == 'great':\n",
    "    print('I feel great too!')\n",
    "else:\n",
    "    print('Hope the rest of the day gets better for you')"
   ]
  },
  {
   "cell_type": "code",
   "execution_count": null,
   "metadata": {},
   "outputs": [],
   "source": [
    "# isupper() example\n",
    "uppercase = 'HELLO'\n",
    "print(uppercase.isupper())\n",
    "\n",
    "# change it to lowercase\n",
    "uppercase = uppercase.lower()\n",
    "print(uppercase.isupper())"
   ]
  },
  {
   "cell_type": "code",
   "execution_count": null,
   "metadata": {},
   "outputs": [],
   "source": [
    "# islower() example\n",
    "lowercase = 'hello'\n",
    "print(lowercase.islower())\n",
    "\n",
    "# change it to uppercase\n",
    "lowercase = lowercase.upper()\n",
    "print(lowercase.islower())"
   ]
  },
  {
   "cell_type": "markdown",
   "metadata": {},
   "source": [
    "## Other isX() methods\n",
    "- `isalpha()` : True if string only has letters and is not blank\n",
    "- `isalnum()` : True if string has letters & numbers and is not blank\n",
    "- `isdecimal()` : True if only numeric characters and not blank. The dot '.' is not considered a decimal point!\n",
    "- `isspace()` : True if only spaces, tabs and new lines and not blank\n",
    "- `istitle()` : True if Titlecase and not blank"
   ]
  },
  {
   "cell_type": "markdown",
   "metadata": {},
   "source": [
    "### Use case for isX() methods"
   ]
  },
  {
   "cell_type": "code",
   "execution_count": null,
   "metadata": {},
   "outputs": [],
   "source": [
    "while True:\n",
    "    print('Enter your age')\n",
    "    age = input()\n",
    "    if age.isdecimal():  # note that isdecimal only looks for numers. Not decimal points.\n",
    "        break\n",
    "    print('Please enter a number for your age.')\n",
    "    \n",
    "while True:\n",
    "    print('Select a new password (letters and numbers only): ')\n",
    "    password = input()\n",
    "    if password.alnum():\n",
    "        break\n",
    "    print('Passwords can only have numbers and letters.')"
   ]
  },
  {
   "cell_type": "markdown",
   "metadata": {},
   "source": [
    "## `startswith()` and `endswith()` Methods\n",
    "\n",
    "Like the name suggests, looks for the string in the parentheses and confirms whether the string starts or ends with it.\n",
    "\n",
    "Can be a useful alternative to == equals operator."
   ]
  },
  {
   "cell_type": "code",
   "execution_count": null,
   "metadata": {},
   "outputs": [],
   "source": [
    "# Example of startswith()\n",
    "hey_ya = \"What's cooler than being cool?\"\n",
    "print(hey_ya.startswith('What'))\n",
    "print(hey_ya.endswith('cool?'))\n",
    "print(hey_ya.startswith('Shake it'))\n",
    "print(hey_ya.endswith('like a polaroid picture'))"
   ]
  },
  {
   "cell_type": "markdown",
   "metadata": {},
   "source": [
    "## `join()` and `split` Methods\n",
    "Syntax is `'string'.join([list])` or `'string'.split('delimiter')`\n",
    "\n",
    "Join is called on a string but is passed as a list.\n",
    "\n",
    "Split by default will split based on white space as delimiter.\n",
    "\n",
    "`join()` and `split()` are the inverse of each other."
   ]
  },
  {
   "cell_type": "code",
   "execution_count": null,
   "metadata": {},
   "outputs": [],
   "source": [
    "# Example of join()\n",
    "print(', '.join(['Beers','out','for','the','boys']))\n",
    "\n",
    "print(' '.join(['THIS','IS','SPAR-','TAH']))\n",
    "\n",
    "print('abc'.join(['THIS','IS','SPAR-','TAH']))"
   ]
  },
  {
   "cell_type": "code",
   "execution_count": null,
   "metadata": {},
   "outputs": [],
   "source": [
    "# Example of split()\n",
    "print('THIS IS SPAR- TAH'.split())\n",
    "\n",
    "print('THIS IS SPAR- TAH'.split('S'))"
   ]
  },
  {
   "cell_type": "markdown",
   "metadata": {},
   "source": [
    "A common use of `split()` is to split a multiline string along the newline characters."
   ]
  },
  {
   "cell_type": "code",
   "execution_count": null,
   "metadata": {},
   "outputs": [],
   "source": [
    "# Example of split() method on newline\n",
    "spam = '''Dear Alice,\n",
    "How have you been? I am fine.\n",
    "There is a container in the fridge\n",
    "that is labeled \"Milk Experiment.\"\n",
    "\n",
    "Please do not drink it.\n",
    "Sincerely,\n",
    "Bob'''\n",
    "\n",
    "spam.split('\\n')"
   ]
  },
  {
   "cell_type": "markdown",
   "metadata": {},
   "source": [
    "## `partition()` method\n",
    "Partition splits the text before and after a seaparator. \n",
    "\n",
    "It only parts the first instance. Does not do multiple times by default."
   ]
  },
  {
   "cell_type": "code",
   "execution_count": null,
   "metadata": {},
   "outputs": [],
   "source": [
    "# Example of partiton\n",
    "print('Hello, world!'.partition('w'))\n",
    "\n",
    "print('Hello, world!'.partition('world'))"
   ]
  },
  {
   "cell_type": "markdown",
   "metadata": {},
   "source": [
    "If the separator string cannot be found, it will just return a tuple with the entire string and then two other empty strings."
   ]
  },
  {
   "cell_type": "code",
   "execution_count": null,
   "metadata": {},
   "outputs": [],
   "source": [
    "# Example of partition \"failing\"\n",
    "'Hello, world!'.partition('XYZ')"
   ]
  },
  {
   "cell_type": "markdown",
   "metadata": {},
   "source": [
    "### Multiple assignment trick to assign the three returned strings to three variables from partition"
   ]
  },
  {
   "cell_type": "code",
   "execution_count": null,
   "metadata": {},
   "outputs": [],
   "source": [
    "before, separator, after = 'Hello, world!'.partition(' ')\n",
    "print(\"before = \" + \"'\" + before + \"'\")\n",
    "print(\"separator = \" + \"'\" + separator + \"'\")\n",
    "print(\"after = \" + \"'\" + after + \"'\")"
   ]
  },
  {
   "cell_type": "markdown",
   "metadata": {},
   "source": [
    "## Justifying text with `rjust()`, `ljust()`, and `centre()` Methods\n",
    "Returns padded version of the string. There are two arguments: An integer and string.\n",
    "\n",
    "First argument = number of the second argument <br>\n",
    "Second argument = string to fill in space from first argument"
   ]
  },
  {
   "cell_type": "code",
   "execution_count": null,
   "metadata": {},
   "outputs": [],
   "source": [
    "# Example of rjust() no string argument\n",
    "print('Hello'.rjust(20))\n",
    "\n",
    "# Example of ljust() no string argument\n",
    "print('Hello'.ljust(20))\n",
    "\n",
    "# Example of center() no string argument\n",
    "print('Hello'.center(20))"
   ]
  },
  {
   "cell_type": "code",
   "execution_count": null,
   "metadata": {},
   "outputs": [],
   "source": [
    "# Example of rjust() w/ string argument\n",
    "print('Hello'.rjust(20,'-'))\n",
    "\n",
    "# Example of ljust() w/ string argument\n",
    "print('Hello'.ljust(20,'*'))\n",
    "\n",
    "# Example of center() w/ string argument\n",
    "print('Hello'.center(20,'='))"
   ]
  },
  {
   "cell_type": "markdown",
   "metadata": {},
   "source": [
    "## Remove whitespace with `strip()`, `rstrip()` and `lstrip()` Methods"
   ]
  },
  {
   "cell_type": "code",
   "execution_count": null,
   "metadata": {},
   "outputs": [],
   "source": [
    "# Example of strip()\n",
    "spam = '       Hello, World      '\n",
    "spam.strip()"
   ]
  },
  {
   "cell_type": "code",
   "execution_count": null,
   "metadata": {},
   "outputs": [],
   "source": [
    "# Example of lstrip()\n",
    "spam.lstrip()"
   ]
  },
  {
   "cell_type": "code",
   "execution_count": null,
   "metadata": {},
   "outputs": [],
   "source": [
    "# Example of rstrip()\n",
    "spam.rstrip()"
   ]
  },
  {
   "cell_type": "code",
   "execution_count": null,
   "metadata": {},
   "outputs": [],
   "source": [
    "# Example of an string argument in the strip() Method\n",
    "spam = 'SpamSpamBaconSpamEggsSpamSpam'\n",
    "\n",
    "print(spam.strip('Samp'))\n",
    "print(spam.strip('ampS'))\n",
    "print(spam.strip('Smap'))\n",
    "print(spam.strip('Spam'))\n",
    "print(spam.strip('Spma'))\n",
    "\n",
    "# Note how the 'Spam' between the Bacon and Eggs is not affected. Just the sides."
   ]
  },
  {
   "cell_type": "code",
   "execution_count": null,
   "metadata": {},
   "outputs": [],
   "source": [
    "# Example of an string argument in the lstrip() Method\n",
    "spam = 'SpamSpamBaconSpamEggsSpamSpam'\n",
    "\n",
    "print(spam.lstrip('Samp'))\n"
   ]
  },
  {
   "cell_type": "markdown",
   "metadata": {},
   "source": [
    "## Copying and pasting strings with `Pyperclip` module\n",
    "It has `copy()` and `paste()` functions."
   ]
  },
  {
   "cell_type": "code",
   "execution_count": 4,
   "metadata": {},
   "outputs": [
    {
     "data": {
      "text/plain": [
       "'Hello, world!'"
      ]
     },
     "execution_count": 4,
     "metadata": {},
     "output_type": "execute_result"
    }
   ],
   "source": [
    "# pyperclip needs to be installed prior. I used the `pip install` in the Anaconda prompt\n",
    "import pyperclip\n",
    "pyperclip.copy('Hello, world!')\n",
    "pyperclip.paste()"
   ]
  }
 ],
 "metadata": {
  "kernelspec": {
   "display_name": "base",
   "language": "python",
   "name": "python3"
  },
  "language_info": {
   "codemirror_mode": {
    "name": "ipython",
    "version": 3
   },
   "file_extension": ".py",
   "mimetype": "text/x-python",
   "name": "python",
   "nbconvert_exporter": "python",
   "pygments_lexer": "ipython3",
   "version": "3.11.4"
  },
  "orig_nbformat": 4
 },
 "nbformat": 4,
 "nbformat_minor": 2
}

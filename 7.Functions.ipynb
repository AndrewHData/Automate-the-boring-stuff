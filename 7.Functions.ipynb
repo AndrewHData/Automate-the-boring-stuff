{
 "cells": [
  {
   "cell_type": "markdown",
   "metadata": {},
   "source": [
    "## Functions"
   ]
  },
  {
   "cell_type": "code",
   "execution_count": null,
   "metadata": {},
   "outputs": [],
   "source": [
    "def hello():\n",
    "    print('Howdy!')\n",
    "    print('Howdy!!')\n",
    "    print('Hello there.')\n",
    "\n",
    "hello()\n",
    "hello()\n",
    "hello()"
   ]
  },
  {
   "cell_type": "markdown",
   "metadata": {},
   "source": [
    "Think of functions as a program within a program"
   ]
  },
  {
   "cell_type": "code",
   "execution_count": null,
   "metadata": {},
   "outputs": [],
   "source": [
    "def hello(name):\n",
    "    print('Hello, ' + name)\n",
    "\n",
    "hello('Alice')"
   ]
  },
  {
   "cell_type": "markdown",
   "metadata": {},
   "source": [
    "### Return Values and Return Statements"
   ]
  },
  {
   "cell_type": "markdown",
   "metadata": {},
   "source": [
    "Below is a program for an 8 ball"
   ]
  },
  {
   "cell_type": "code",
   "execution_count": null,
   "metadata": {},
   "outputs": [],
   "source": [
    "import random\n",
    "\n",
    "def getAnswer(ansNumber):\n",
    "    if ansNumber == 1:\n",
    "        return 'It is certain'\n",
    "    elif ansNumber == 2:\n",
    "        return 'It is decidedly so'\n",
    "    elif ansNumber == 3:\n",
    "        return 'Yes'\n",
    "    elif ansNumber == 4:\n",
    "        return 'Reply hazy - Try again'\n",
    "    elif ansNumber == 5:\n",
    "        return 'It is uncertain'\n",
    "    elif ansNumber == 6:\n",
    "        return 'Maybe. Maybe not'\n",
    "    elif ansNumber == 7:\n",
    "        return 'Definitely not'\n",
    "    elif ansNumber == 8:\n",
    "        return 'No'\n",
    "    elif ansNumber == 9:\n",
    "        return 'Luck is not on'\n",
    "    \n",
    "r = random.randint(1,9)\n",
    "getFortune = getAnswer(r)\n",
    "print(getFortune)  \n",
    "\n",
    "## The three above lines can be shortened to a single line:\n",
    "## print(getAnswer(random.randint(1,9)))"
   ]
  },
  {
   "cell_type": "markdown",
   "metadata": {},
   "source": [
    "### Keyword Arguments and the print() function.\n",
    "print actually has optional parameters.ie. print (a , b, c. etc.)\n",
    "'end=' = next argument is not a new line. \n",
    "'sep=' = separate what I'm between. "
   ]
  },
  {
   "cell_type": "code",
   "execution_count": null,
   "metadata": {},
   "outputs": [],
   "source": [
    "# Example of multiple values in print() function\n",
    "print('dogs', 'cats', 'mice')\n",
    "print('Note how the print list above automatically puts a space without us hainvg to elaborate')"
   ]
  },
  {
   "cell_type": "code",
   "execution_count": null,
   "metadata": {},
   "outputs": [],
   "source": [
    "## Example of using end=''\n",
    "print('Hello')\n",
    "print('World')\n",
    "\n",
    "print('Hello', end=' ')\n",
    "print('World')"
   ]
  },
  {
   "cell_type": "markdown",
   "metadata": {},
   "source": [
    "### Call stack\n",
    "Imagine that you have a meandering conversation with someone. You talk about your friend Alice, which then reminds you of a story about your coworker Bob, but first you have to explain something about your cousin Carol. You finish you story about Carol and go back to talking about Bob, and when you finish your story about Bob, you go back to talking about Alice. But then you are reminded about your brother David, so you tell a story about him, and then get back to finishing your original story about Alice. Your conversation followed a stack-like structure"
   ]
  },
  {
   "cell_type": "code",
   "execution_count": null,
   "metadata": {},
   "outputs": [],
   "source": [
    "def a():\n",
    "    print('a() starts')\n",
    "    b()\n",
    "    d()\n",
    "    print('a() returns')\n",
    "    \n",
    "def b():\n",
    "    print('b() starts')\n",
    "    c()\n",
    "    print('b() returns')\n",
    "    \n",
    "def c():\n",
    "    print('c() starts')\n",
    "    print('c() returns')\n",
    "\n",
    "def d():\n",
    "    print('d() starts')\n",
    "    print('d() returns')\n",
    "    \n",
    "a()"
   ]
  },
  {
   "cell_type": "markdown",
   "metadata": {},
   "source": [
    "### Scope: Global VS Local"
   ]
  },
  {
   "cell_type": "markdown",
   "metadata": {},
   "source": [
    "Scope is like a container."
   ]
  },
  {
   "cell_type": "markdown",
   "metadata": {},
   "source": [
    "Global variables are variables that are assigned outside of all functions. Ie. Not inside the def function"
   ]
  },
  {
   "cell_type": "markdown",
   "metadata": {},
   "source": [
    "Local variables are inside the def function."
   ]
  },
  {
   "cell_type": "code",
   "execution_count": null,
   "metadata": {},
   "outputs": [],
   "source": [
    "# The below will cause an error when run\n",
    "def spam():\n",
    "    eggs = 31337\n",
    "spam()                # On this line, the spam function is used, and then closed\n",
    "print(eggs)           # since the spam function is now closed, there's no eggs, so you can't print eggs"
   ]
  },
  {
   "cell_type": "markdown",
   "metadata": {},
   "source": [
    "Local scopes can't use variables in other local scopes"
   ]
  },
  {
   "cell_type": "code",
   "execution_count": null,
   "metadata": {},
   "outputs": [],
   "source": [
    "# For the below, the bacon function will not run in the spam function, because once the \n",
    "# bacon function is returned, the scope/container for bacon is destroyed.\n",
    "# that means the eggs variable inside bacon is also destroyed, so it's not set to 3\n",
    "def spam():\n",
    "    eggs = 99\n",
    "    bacon ()\n",
    "    print(eggs)\n",
    "\n",
    "def bacon():\n",
    "    ham = 101\n",
    "    eggs = 3\n",
    "    \n",
    "spam()"
   ]
  },
  {
   "cell_type": "markdown",
   "metadata": {},
   "source": [
    "Global Variables Can Be Read from a Local Scope"
   ]
  },
  {
   "cell_type": "code",
   "execution_count": null,
   "metadata": {},
   "outputs": [],
   "source": [
    "def spam():\n",
    "    print('spam =', eggs)\n",
    "eggs = 42    # this variable is considered outside of the function\n",
    "\n",
    "spam()\n",
    "print(eggs)\n"
   ]
  },
  {
   "cell_type": "markdown",
   "metadata": {},
   "source": [
    "Local and Global variables with Same Name"
   ]
  },
  {
   "cell_type": "markdown",
   "metadata": {},
   "source": [
    "We can use the same name, but it's not good practice"
   ]
  },
  {
   "cell_type": "code",
   "execution_count": null,
   "metadata": {},
   "outputs": [],
   "source": [
    "# try understanding how this works\n",
    "\n",
    "def spam():\n",
    "    eggs = 'spam local'\n",
    "    print(eggs)\n",
    "    \n",
    "def bacon():\n",
    "    eggs = 'bacon local'\n",
    "    spam()\n",
    "    print(eggs)\n",
    "\n",
    "eggs = 'global'\n",
    "\n",
    "bacon()\n",
    "\n",
    "print(eggs)"
   ]
  },
  {
   "cell_type": "code",
   "execution_count": null,
   "metadata": {},
   "outputs": [],
   "source": [
    "# and try understanding how this oeprates\n",
    "\n",
    "def spam():\n",
    "    eggs = 'spam local'\n",
    "    print(eggs)\n",
    "    \n",
    "def bacon():\n",
    "    eggs = 'bacon local'\n",
    "    print (eggs)\n",
    "    spam()       # once spam function is called and returned, the variable eggs = 'spam local' is deleted\n",
    "    print(eggs)\n",
    "\n",
    "eggs = 'global'\n",
    "\n",
    "bacon()\n",
    "\n",
    "print(eggs)"
   ]
  },
  {
   "cell_type": "markdown",
   "metadata": {},
   "source": [
    "Global statement to edit the global variable within a function"
   ]
  },
  {
   "cell_type": "markdown",
   "metadata": {},
   "source": [
    "If you need to modify a global variable from within a function, use the global statement."
   ]
  },
  {
   "cell_type": "code",
   "execution_count": null,
   "metadata": {},
   "outputs": [],
   "source": [
    "def spam():\n",
    "    global eggs\n",
    "    eggs = 'spam'\n",
    "    \n",
    "eggs = 'global'\n",
    "\n",
    "spam()\n",
    "print(eggs)"
   ]
  },
  {
   "cell_type": "code",
   "execution_count": null,
   "metadata": {},
   "outputs": [],
   "source": [
    "# position is everything. Programs are run downwards\n",
    "# If spam and eggs variable are swapped, that changes the output\n",
    "\n",
    "def spam():\n",
    "    global eggs\n",
    "    eggs = 'spam'\n",
    "    \n",
    "spam()\n",
    "\n",
    "eggs = 'global'\n",
    "\n",
    "print(eggs)"
   ]
  },
  {
   "cell_type": "markdown",
   "metadata": {},
   "source": [
    "## Exception Handling\n",
    "Use this to handle any errors. Uses try and except statements"
   ]
  },
  {
   "cell_type": "code",
   "execution_count": null,
   "metadata": {},
   "outputs": [],
   "source": [
    "# The below should error if we try to divide by zero. It will not go past it\n",
    "def spam(divideBy):\n",
    "    return 42 / divideBy\n",
    "\n",
    "print(spam(2))\n",
    "print(spam(12))\n",
    "print(spam(0))\n",
    "print(spam(1))\n"
   ]
  },
  {
   "cell_type": "code",
   "execution_count": null,
   "metadata": {},
   "outputs": [],
   "source": [
    "# Using the try and except statements, we can say that if there's a specific error code, then return xyz value. \n",
    "def spam(divideBy):\n",
    "    try: \n",
    "        return 42 / divideBy\n",
    "    except ZeroDivisionError:\n",
    "        print('Error: Invalid argument.')\n",
    "\n",
    "print(spam(2))\n",
    "print(spam(12))\n",
    "print(spam(0))\n",
    "print(spam(1))\n"
   ]
  },
  {
   "cell_type": "code",
   "execution_count": null,
   "metadata": {},
   "outputs": [],
   "source": [
    "# Consider the following which has spam calls in the try block\n",
    "def spam(divideBy):\n",
    "    return 42 / divideBy\n",
    "\n",
    "try:\n",
    "    print(spam(2))\n",
    "    print(spam(12))\n",
    "    print(spam(0))\n",
    "    print(spam(1))\n",
    "except ZeroDivisionError:\n",
    "    print('Error: Invalid argument.')\n",
    "    \n",
    "# It does not run print(spam(1)). Why? Look at the flow. When there is a ZeroDivisionError, print 'Error: Invalid argument.' then end it."
   ]
  },
  {
   "cell_type": "code",
   "execution_count": null,
   "metadata": {},
   "outputs": [],
   "source": [
    "# The below code will create a zigzag program\n",
    "import time,sys\n",
    "indent = 0 # How many spaces to indent.\n",
    "indentIncreasing = True # Whether the indentation is increasing or not\n",
    "\n",
    "try:\n",
    "    while True: # The main program loop\n",
    "        print(' ' * indent, end='')\n",
    "        print('********')\n",
    "        time.sleep(0.1) #Pause for 1/10 of a second.\n",
    "        \n",
    "        if indentIncreasing:\n",
    "            # Increase the number of spaces\n",
    "            indent = indent + 1\n",
    "            if indent == 20:\n",
    "            # Change direction:\n",
    "                indentIncreasing = False\n",
    "        \n",
    "        else:\n",
    "            # Decrease the number of spaces\n",
    "            indent = indent - 1\n",
    "            if indent == 0:\n",
    "                # Change direction:\n",
    "                indentIncreasing = True\n",
    "except KeyboardInterrupt:\n",
    "    sys.exit()"
   ]
  },
  {
   "cell_type": "markdown",
   "metadata": {},
   "source": [
    "# Practice Projects\n"
   ]
  },
  {
   "cell_type": "markdown",
   "metadata": {},
   "source": [
    "## The Collatz Sequence\n"
   ]
  },
  {
   "cell_type": "markdown",
   "metadata": {},
   "source": [
    "Write a function named collatz() that has one parameter named number. If number is even, then collatz() should print number // 2 and return this value. If number is odd, then collatz() should print and return 3 * number + 1.<br>\n",
    "\n",
    "Then write a program that lets the user type in an integer and that keeps calling collatz() on that number until the function returns the value 1. <br>\n",
    "(Amazingly enough, this sequence actually works for any integer—sooner or later, using this sequence, you’ll arrive at 1! Even mathematicians aren’t sure why. <br>\n",
    "\n",
    "Your program is exploring what’s called the Collatz sequence, sometimes called “the simplest impossible math problem.”)<br>\n",
    "\n",
    "Remember to convert the return value from input() to an integer with the int() function; otherwise, it will be a string value.<br>\n",
    "\n",
    "Hint: An integer number is even if number % 2 == 0, and it’s odd if number % 2 == 1.<br>\n",
    "\n",
    "The output of this program could look something like this:\n",
    "\n",
    "```\n",
    "Enter number:\n",
    "3\n",
    "10\n",
    "5\n",
    "16\n",
    "8\n",
    "4\n",
    "2\n",
    "1\n",
    "```"
   ]
  },
  {
   "cell_type": "code",
   "execution_count": null,
   "metadata": {},
   "outputs": [],
   "source": [
    "def collatz():\n",
    "    print('Enter number:')\n",
    "    number = int(input())\n",
    "    print(number)\n",
    "    while number != 1:\n",
    "        if number % 2 == 0:\n",
    "            number = number // 2\n",
    "            print(number)\n",
    "        elif number % 2 != 0:\n",
    "            number = 3 * number + 1\n",
    "            print(number)\n",
    "           \n",
    "    \n",
    "collatz()"
   ]
  },
  {
   "cell_type": "markdown",
   "metadata": {},
   "source": [
    "#### Input Validation\n",
    "Add try and except statements to the previous project to detect whether the user types in a noninteger string.<br> Normally, the `int()` function will raise a ValueError error if it is passed a noninteger string, as in `int('puppy')`.<br> In the except clause, print a message to the user saying they must enter an integer."
   ]
  },
  {
   "cell_type": "code",
   "execution_count": null,
   "metadata": {},
   "outputs": [],
   "source": [
    "def collatz():\n",
    "    while True:\n",
    "        try:\n",
    "            print('Enter number:')\n",
    "            number = int(input())\n",
    "            print(number)\n",
    "            while number != 1:\n",
    "                if number % 2 == 0:\n",
    "                    number = number // 2\n",
    "                    print(number)\n",
    "                elif number % 2 != 0:\n",
    "                    number = 3 * number + 1\n",
    "                    print(number)\n",
    "            break\n",
    "        except ValueError:\n",
    "                print('Entered value was not an integer. Please enter a whole number.')\n",
    "        continue\n",
    "\n",
    "collatz()"
   ]
  }
 ],
 "metadata": {
  "kernelspec": {
   "display_name": "Python 3",
   "language": "python",
   "name": "python3"
  },
  "language_info": {
   "codemirror_mode": {
    "name": "ipython",
    "version": 3
   },
   "file_extension": ".py",
   "mimetype": "text/x-python",
   "name": "python",
   "nbconvert_exporter": "python",
   "pygments_lexer": "ipython3",
   "version": "3.11.4"
  },
  "orig_nbformat": 4
 },
 "nbformat": 4,
 "nbformat_minor": 2
}

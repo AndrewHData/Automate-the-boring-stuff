{
 "cells": [
  {
   "cell_type": "markdown",
   "metadata": {},
   "source": [
    "Practice Questions\n",
    "1. What is []?\n",
    "\n",
    "My answer: the square brackets indicate a list\n"
   ]
  },
  {
   "cell_type": "markdown",
   "metadata": {},
   "source": [
    "\n",
    "2. How would you assign the value 'hello' as the third value in a list stored in a variable named spam? (Assume spam contains [2, 4, 6, 8, 10].)\n",
    "\n",
    "For the following three questions, let’s say spam contains the list ['a', 'b', 'c', 'd'].\n",
    "\n",
    "My answer: to assign I would use `spam[2] = 'hello'`"
   ]
  },
  {
   "cell_type": "code",
   "execution_count": null,
   "metadata": {},
   "outputs": [],
   "source": [
    "# Question 2 assigning list values. Assign 'hello' as the third value\n",
    "\n",
    "spam = ['a', 'b', 'c', 'd']\n",
    "spam[2] = 'hello'\n",
    "print(spam)"
   ]
  },
  {
   "cell_type": "markdown",
   "metadata": {},
   "source": [
    "\n",
    "3. What does spam[int(int('3' * 2) // 11)] evaluate to?"
   ]
  },
  {
   "cell_type": "code",
   "execution_count": null,
   "metadata": {},
   "outputs": [],
   "source": [
    "# Question 3 test\n",
    "spam = ['a', 'b', 'c', 'd']\n",
    "print(spam[int(int('3' * 2) // 11)])\n",
    "\n",
    "# Apparently it is d\n",
    "# Let's break it up.\n",
    "\n",
    "print(int('3' * 2)) ## This isn't 3 x 2. This is make the string '3' twice. So it becomes the string'33'.\n",
    "                    ## The int converts it and then we divide so it becomes 3.\n"
   ]
  },
  {
   "cell_type": "markdown",
   "metadata": {},
   "source": [
    "4. What does spam[-1] evaluate to?\n",
    "\n",
    "It should evaluate to 'd'"
   ]
  },
  {
   "cell_type": "code",
   "execution_count": null,
   "metadata": {},
   "outputs": [],
   "source": [
    "# Question 4\n",
    "\n",
    "spam[-1]"
   ]
  },
  {
   "cell_type": "markdown",
   "metadata": {},
   "source": [
    "5. What does spam[:2] evaluate to?\n",
    "\n",
    "My answer: It should be all up to but not including third value "
   ]
  },
  {
   "cell_type": "code",
   "execution_count": null,
   "metadata": {},
   "outputs": [],
   "source": [
    "spam[:2]"
   ]
  },
  {
   "cell_type": "markdown",
   "metadata": {},
   "source": [
    "For the following three questions, let’s say bacon contains the list [3.14, 'cat', 11, 'cat', True].\n",
    "\n",
    "6. What does bacon.index('cat') evaluate to?\n",
    "\n",
    "My answer: It should evaluate the index position in the list. In this case, 1."
   ]
  },
  {
   "cell_type": "code",
   "execution_count": null,
   "metadata": {},
   "outputs": [],
   "source": [
    "bacon = [3.14, 'cat', 11, 'cat', True]\n",
    "bacon.index('cat')"
   ]
  },
  {
   "cell_type": "markdown",
   "metadata": {},
   "source": [
    "7. What does bacon.append(99) make the list value in bacon look like?\n",
    "\n",
    "My answer: It should add the integer 99 at the end of the list.\n"
   ]
  },
  {
   "cell_type": "code",
   "execution_count": null,
   "metadata": {},
   "outputs": [],
   "source": [
    "bacon.append(99)\n",
    "print(bacon)\n",
    "bacon = [3.14, 'cat', 11, 'cat', True]"
   ]
  },
  {
   "cell_type": "markdown",
   "metadata": {},
   "source": [
    "8. What does bacon.remove('cat') make the list value in bacon look like?\n",
    "\n",
    "My answer: It should only remove the first instance of 'cat'"
   ]
  },
  {
   "cell_type": "code",
   "execution_count": null,
   "metadata": {},
   "outputs": [],
   "source": [
    "bacon = [3.14, 'cat', 11, 'cat', True]\n",
    "bacon.remove('cat')\n",
    "print(bacon)"
   ]
  },
  {
   "cell_type": "markdown",
   "metadata": {},
   "source": [
    "9. What are the operators for list concatenation and list replication?\n",
    "\n",
    "My answer: For list concatenation we can use `+` and for replication `*`"
   ]
  },
  {
   "cell_type": "code",
   "execution_count": null,
   "metadata": {},
   "outputs": [],
   "source": [
    "# Example of list concatenation\n",
    "concat_example = ['A','B','c'] + ['dog','emu','frog']\n",
    "print(concat_example)\n",
    "\n",
    "# Example of list duplication\n",
    "duplication_example = ['A','B','c'] * 3\n",
    "print(duplication_example)"
   ]
  },
  {
   "cell_type": "markdown",
   "metadata": {},
   "source": [
    "10. What is the difference between the append() and insert() list methods?\n",
    "\n",
    "My answer: `append()` adds to the end of the list. We need to specify the position for `insert()`method."
   ]
  },
  {
   "cell_type": "markdown",
   "metadata": {},
   "source": [
    "11. What are two ways to remove values from a list?\n",
    "\n",
    "My answer: Method 1 - use the `remove()` method and specify the value. Method 2 - del statement and specify the position."
   ]
  },
  {
   "cell_type": "code",
   "execution_count": null,
   "metadata": {},
   "outputs": [],
   "source": [
    "# Example of remove() method\n",
    "bacon = [3.14, 'cat', 11, 'cat', True]\n",
    "bacon.remove(True)\n",
    "print(bacon)\n",
    "\n",
    "# Example of del statement\n",
    "bacon = [3.14, 'cat', 11, 'cat', True]\n",
    "del bacon[-1]\n",
    "print(bacon)"
   ]
  },
  {
   "cell_type": "markdown",
   "metadata": {},
   "source": [
    "12. Name a few ways that list values are similar to string values.\n",
    "\n",
    "My answer: Each character in a string is an index of a list."
   ]
  },
  {
   "cell_type": "markdown",
   "metadata": {},
   "source": [
    "13. What is the difference between lists and tuples?\n",
    "\n",
    "My answer: lists are mutable and can be changed. Tuples are immutable, and cannot be changed or edited."
   ]
  },
  {
   "cell_type": "markdown",
   "metadata": {},
   "source": [
    "14. How do you type the tuple value that has just the integer value 42 in it?\n",
    "\n",
    "My answer: put a comma inside the parentheses after the int"
   ]
  },
  {
   "cell_type": "code",
   "execution_count": null,
   "metadata": {},
   "outputs": [],
   "source": [
    "# Example of single value in a tuple\n",
    "type((42,))\n"
   ]
  },
  {
   "cell_type": "markdown",
   "metadata": {},
   "source": [
    "15. How can you get the tuple form of a list value? How can you get the list form of a tuple value?\n",
    "\n",
    "My answer: To convert from list to tuple, put the list inside the `tuple()`. Opposite for tuple to list."
   ]
  },
  {
   "cell_type": "code",
   "execution_count": null,
   "metadata": {},
   "outputs": [],
   "source": [
    "# List -> Tuple\n",
    "convertListToTuple = ['a','b','c']\n",
    "convertListToTuple = tuple(convertListToTuple)\n",
    "print(convertListToTuple)\n",
    "print(type(convertListToTuple))\n",
    "\n",
    "# Tuple -> List\n",
    "convertTupleToList = ('1', 2 ,'3')\n",
    "convertTupleToList = list(convertTupleToList)\n",
    "print(convertTupleToList)\n",
    "print(type(convertTupleToList))"
   ]
  },
  {
   "cell_type": "markdown",
   "metadata": {},
   "source": [
    "16. Variables that “contain” list values don’t actually contain lists directly. What do they contain instead?\n",
    "\n",
    "My answer: References to the list"
   ]
  },
  {
   "cell_type": "markdown",
   "metadata": {},
   "source": [
    "17. What is the difference between copy.copy() and copy.deepcopy()?\n",
    "\n",
    "My answer: `copy.copy()` copies the list, whereas `copy.deepcopy()` copies the lists inside the list"
   ]
  },
  {
   "cell_type": "markdown",
   "metadata": {},
   "source": [
    "# Practice Projects\n",
    "For practice, write programs to do the following tasks."
   ]
  },
  {
   "cell_type": "markdown",
   "metadata": {},
   "source": [
    "## Comma Code\n",
    "Say you have a list value like this:\n",
    "\n",
    "`spam = ['apples', 'bananas', 'tofu', 'cats']`\n",
    "\n",
    "Write a function that takes a list value as an argument and returns a string with all the items separated by a comma and a space, with and inserted before the last item. \n",
    "\n",
    "For example, passing the previous spam list to the function would return 'apples, bananas, tofu, and cats'. \n",
    "\n",
    "But your function should be able to work with any list value passed to it. Be sure to test the case where an empty list [] is passed to your function."
   ]
  },
  {
   "cell_type": "code",
   "execution_count": 77,
   "metadata": {},
   "outputs": [
    {
     "name": "stdout",
     "output_type": "stream",
     "text": [
      "Add item 1 to the items list or enter nothing to stop:\n",
      "Add item 2 to the items list or enter nothing to stop:\n",
      "Add item 3 to the items list or enter nothing to stop:\n",
      "Add item 4 to the items list or enter nothing to stop:\n",
      "Add item 5 to the items list or enter nothing to stop:\n",
      "Add item 6 to the items list or enter nothing to stop:\n",
      "Add item 7 to the items list or enter nothing to stop:\n",
      "\"You're\", 'You are', 'Your', 'Ur', 'Yor', and 'Yawl'.\n"
     ]
    }
   ],
   "source": [
    "itemlist = []\n",
    "while True:\n",
    "    print('Add item ' + str(len(itemlist) + 1) + ' to the items list or enter nothing to stop:')\n",
    "    item_to_add = input()\n",
    "    if item_to_add == '':\n",
    "        break\n",
    "    itemlist = itemlist + [item_to_add]\n",
    "    lastitem = itemlist[-1]\n",
    "    itemliststring = str(itemlist[:-1])\n",
    "print(itemliststring[1:-1] + ', and ' + \"'\" + lastitem + \"'.\")"
   ]
  }
 ],
 "metadata": {
  "kernelspec": {
   "display_name": "base",
   "language": "python",
   "name": "python3"
  },
  "language_info": {
   "codemirror_mode": {
    "name": "ipython",
    "version": 3
   },
   "file_extension": ".py",
   "mimetype": "text/x-python",
   "name": "python",
   "nbconvert_exporter": "python",
   "pygments_lexer": "ipython3",
   "version": "3.11.4"
  },
  "orig_nbformat": 4
 },
 "nbformat": 4,
 "nbformat_minor": 2
}

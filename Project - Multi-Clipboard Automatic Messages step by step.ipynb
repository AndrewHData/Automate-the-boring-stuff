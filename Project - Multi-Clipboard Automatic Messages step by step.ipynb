{
 "cells": [
  {
   "cell_type": "markdown",
   "metadata": {},
   "source": [
    "# Project: Multi-Clipboard Automatic Messages\n",
    "If you’ve responded to a large number of emails with similar phrasing, you’ve probably had to do a lot of repetitive typing. Maybe you keep a text document with these phrases so you can easily copy and paste them using the clipboard. But your clipboard can only store one message at a time, which isn’t very convenient. Let’s make this process a bit easier with a program that stores multiple phrases."
   ]
  },
  {
   "cell_type": "markdown",
   "metadata": {},
   "source": [
    "## Step 1: *Program Design and Data Structures*\n",
    "You want to be able to run this program with a command line argument that is a short key phrase—for instance, agree or busy. The message associated with that key phrase will be copied to the clipboard so that the user can paste it into an email. This way, the user can have long, detailed messages without having to retype them.\n",
    "\n"
   ]
  },
  {
   "cell_type": "markdown",
   "metadata": {},
   "source": [
    "You need to start the program with a #! (shebang) line (see Appendix B) and should also write a comment that briefly describes the program. \n",
    "\n",
    "Since you want to associate each piece of text with its key phrase, you can store these as strings in a dictionary. The dictionary will be the data structure that organizes your key phrases and text."
   ]
  },
  {
   "cell_type": "code",
   "execution_count": null,
   "metadata": {},
   "outputs": [],
   "source": [
    "#! python3\n",
    "# the '#!' shebang tells Windows to run the program using python3\n",
    "# mclip.py - A multi-clipboard program\n",
    "\n",
    "# Create a dictionary \n",
    "TEXT = {'agree': \"\"\"Yes, I agree, that sounds find to me.\"\"\",\n",
    "        'busy':\"\"\"Sorry, can we do this at another time?\"\"\",\n",
    "        'thanks':\"\"\"Thank you. I appreciate your help.\"\"\"}"
   ]
  },
  {
   "cell_type": "markdown",
   "metadata": {},
   "source": [
    "## Step 2: *Handle Command Line Arguments*\n",
    "The command line arguments will be stored in the variable `sys.argv`. \n",
    "\n",
    "The first item in the `sys.argv` list should always be a string containing the program’s filename ('Project - Multi-Clipboard Automatic Messages.ipynb'), and the second item should be the first command line argument. \n",
    "\n",
    "For this program, this argument is the key phrase of the message you want. \n",
    "\n",
    "Since the command line argument is mandatory, you display a usage message to the user if they forget to add it (that is, if the sys.argv list has fewer than two values in it)."
   ]
  },
  {
   "cell_type": "code",
   "execution_count": null,
   "metadata": {},
   "outputs": [],
   "source": [
    "#! python3\n",
    "# the '#!' shebang tells Windows to run the program using python3\n",
    "# mclip.py - A multi-clipboard program\n",
    "\n",
    "TEXT = {'agree': \"\"\"Yes, I agree, that sounds find to me.\"\"\",\n",
    "        'busy':\"\"\"Sorry, can we do this at another time?\"\"\",\n",
    "        'thanks':\"\"\"Thank you. I appreciate your help.\"\"\"}\n",
    "\n",
    "import sys\n",
    "if len(sys.argv) < 2:\n",
    "    print('Usage: python Project - Multi-Clipboard Automatic Messages.py [keyphrase] - copy phrase text')\n",
    "    sys.exit()\n",
    "    \n",
    "keyphrase = sys.argv[1]        # first command line argument is the keyphrase"
   ]
  },
  {
   "cell_type": "markdown",
   "metadata": {},
   "source": [
    "## Step 3: *Copy the Right Phrase*\n",
    "Now that the key phrase is stored as a string in the variable `keyphrase`, you need to see whether it exists in the `TEXT` dictionary as a key. \n",
    "\n",
    "If so, you want to copy the key’s value to the clipboard using `pyperclip.copy()`. \n",
    "\n",
    "(Since you’re using the `pyperclip` module, you need to import it.) \n",
    "\n",
    "Note that you don’t actually need the `keyphrase` variable; you could just use `sys.argv[1]` everywhere `keyphrase` is used in this program. \n",
    "\n",
    "But a variable named `keyphrase` is much more readable than something cryptic like `sys.argv[1]`."
   ]
  },
  {
   "cell_type": "code",
   "execution_count": null,
   "metadata": {},
   "outputs": [],
   "source": [
    "#! python3\n",
    "# the '#!' shebang tells Windows to run the program using python3\n",
    "# mclip.py - A multi-clipboard program\n",
    "\n",
    "TEXT = {'agree': \"\"\"Yes, I agree, that sounds find to me.\"\"\",\n",
    "        'busy':\"\"\"Sorry, can we do this at another time?\"\"\",\n",
    "        'thanks':\"\"\"Thank you. I appreciate your help.\"\"\"}\n",
    "\n",
    "import sys, pyperclip\n",
    "if len(sys.argv) < 2:\n",
    "    print('Usage: py mclip.py [keyphrase] - copy phrase text')\n",
    "    sys.exit()\n",
    "    \n",
    "keyphrase = sys.argv[1]        # first command line argument is the keyphrase\n",
    "\n",
    "if keyphrase in TEXT:\n",
    "    pyperclip.copy(TEXT[keyphrase])\n",
    "    print('Text for ' + keyphrase + ' copied to clipboard.')\n",
    "else:\n",
    "    print('There is no text for ' + keyphrase)"
   ]
  },
  {
   "cell_type": "markdown",
   "metadata": {},
   "source": [
    "This new code looks in the TEXT dictionary for the key phrase. \n",
    "\n",
    "If the key phrase is a key in the dictionary, we get the value corresponding to that key, copy it to the clipboard, and print a message saying that we copied the value. \n",
    "\n",
    "Otherwise, we print a message saying there’s no key phrase with that name."
   ]
  },
  {
   "cell_type": "markdown",
   "metadata": {},
   "source": [
    "That’s the complete script. Using the instructions in Appendix B for launching command line programs easily, you now have a fast way to copy messages to the clipboard. \n",
    "\n",
    "You will have to modify the TEXT dictionary value in the source whenever you want to update the program with a new message."
   ]
  },
  {
   "cell_type": "markdown",
   "metadata": {},
   "source": [
    "On Windows, you can create a batch file to run this program with the WIN-R Run window. \n",
    "\n",
    "Enter the following into the file editor and save the file as mclip.bat in the C:\\Windows folder:\n",
    "\n",
    "---------------\n",
    "`@py.exe C:\\path_to_file\\mclip.py %*`\n",
    "`@pause`\n",
    "\n",
    "---------------\n",
    "\n",
    "Note!<br>\n",
    "If anaconda was installed instead and the output says Python cannot be found, AND the filepath contains parentheses<br> \n",
    "Try referencing the filepath to the python.exe and then try wrapping the filepath with parentheses in double quotes (\") following that. For example:<br>\n",
    "`@echo off`<br>\n",
    "`C:\\ProgramData\\anaconda3\\python.exe \"C:\\Users\\User\\Path_with_parentheses(_)\\mclip.py\" %*`<br>\n",
    "`pause`<br>"
   ]
  }
 ],
 "metadata": {
  "kernelspec": {
   "display_name": "base",
   "language": "python",
   "name": "python3"
  },
  "language_info": {
   "codemirror_mode": {
    "name": "ipython",
    "version": 3
   },
   "file_extension": ".py",
   "mimetype": "text/x-python",
   "name": "python",
   "nbconvert_exporter": "python",
   "pygments_lexer": "ipython3",
   "version": "3.11.4"
  },
  "orig_nbformat": 4
 },
 "nbformat": 4,
 "nbformat_minor": 2
}
